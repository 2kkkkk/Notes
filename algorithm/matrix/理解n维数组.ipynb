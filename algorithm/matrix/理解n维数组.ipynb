{
 "cells": [
  {
   "cell_type": "markdown",
   "metadata": {},
   "source": [
    "n维数组中的每一个元素都是一个n-1维数组，假设共m个元素，这m个元素在n-1维空间之外的另一维度有序排列，构成了这个n维数组。\n",
    "\n",
    "以3维数组为例，3维数组中的每一个元素都是一个2维数组，每一个2维数组可以看成是站在地面上的小人组成的阅兵方阵，假设有m个方阵，每个方阵，有20排，10列，（即这个2维数组大小[20,10]）如果这m个方阵都站成地面上并有序排列（下一个方阵补在上一个方阵最后一排后面），那么这m个方阵组成的大方阵仍然是一个2维数组，数组大小为[(m*20),10]。但是如果下一个方阵补在上一个方阵的头顶上（地面（XY平面）之外的另一维度（高度，Z轴）），那么这m个方阵组成的大方阵是一个3维数组，数组大小为[m,20,10]"
   ]
  }
 ],
 "metadata": {
  "kernelspec": {
   "display_name": "Python 3",
   "language": "python",
   "name": "python3"
  },
  "language_info": {
   "codemirror_mode": {
    "name": "ipython",
    "version": 3
   },
   "file_extension": ".py",
   "mimetype": "text/x-python",
   "name": "python",
   "nbconvert_exporter": "python",
   "pygments_lexer": "ipython3",
   "version": "3.7.4"
  },
  "toc": {
   "base_numbering": 1,
   "nav_menu": {},
   "number_sections": true,
   "sideBar": true,
   "skip_h1_title": false,
   "title_cell": "Table of Contents",
   "title_sidebar": "Contents",
   "toc_cell": false,
   "toc_position": {},
   "toc_section_display": true,
   "toc_window_display": false
  }
 },
 "nbformat": 4,
 "nbformat_minor": 2
}
