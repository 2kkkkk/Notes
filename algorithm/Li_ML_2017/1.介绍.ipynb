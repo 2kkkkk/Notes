{
 "cells": [
  {
   "cell_type": "markdown",
   "metadata": {},
   "source": [
    "hand crafed rules 基于规则的机器很僵硬，且永远不会超过制定规则的人类的智慧，因此需要让机器可以自主学习。\n",
    "\n",
    "机器学习本质上就是找到一个函数$f(x)$，给定一个输入x，得到一个输出y。怎样找到这个函数呢？\n",
    "\n",
    "可以分为3步。第一步，先人为给定一个function set即model；第二步，定义衡量一个function好坏的标准；第三步，从function set中找到一个最好的函数，即最优化问题。这就类似于把大象装进冰箱需要3个步骤一样。\n",
    "\n",
    "\n",
    "---\n",
    "机器学习的Task：**回归、分类、structure learning（如机器翻译）**\n",
    "\n",
    "Method：**线性模型、非线性模型**\n",
    "\n",
    "Scenario：**有监督学习、半监督学习、迁移学习、无监督学习、强化学习**\n",
    "\n",
    "AlphaGO是有监督学习+强化学习"
   ]
  }
 ],
 "metadata": {
  "kernelspec": {
   "display_name": "Python 3",
   "language": "python",
   "name": "python3"
  },
  "language_info": {
   "codemirror_mode": {
    "name": "ipython",
    "version": 3
   },
   "file_extension": ".py",
   "mimetype": "text/x-python",
   "name": "python",
   "nbconvert_exporter": "python",
   "pygments_lexer": "ipython3",
   "version": "3.7.4"
  },
  "toc": {
   "base_numbering": 1,
   "nav_menu": {},
   "number_sections": true,
   "sideBar": true,
   "skip_h1_title": false,
   "title_cell": "Table of Contents",
   "title_sidebar": "Contents",
   "toc_cell": false,
   "toc_position": {},
   "toc_section_display": true,
   "toc_window_display": false
  }
 },
 "nbformat": 4,
 "nbformat_minor": 2
}
